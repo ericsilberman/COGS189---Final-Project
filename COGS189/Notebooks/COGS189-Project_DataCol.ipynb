{
 "cells": [
  {
   "cell_type": "markdown",
   "metadata": {},
   "source": [
    "## EEG Data Collection Notebook"
   ]
  },
  {
   "cell_type": "code",
   "execution_count": 1,
   "metadata": {},
   "outputs": [
    {
     "ename": "ModuleNotFoundError",
     "evalue": "No module named 'psychopy'",
     "output_type": "error",
     "traceback": [
      "\u001b[0;31m---------------------------------------------------------------------------\u001b[0m",
      "\u001b[0;31mModuleNotFoundError\u001b[0m                       Traceback (most recent call last)",
      "Cell \u001b[0;32mIn[1], line 9\u001b[0m\n\u001b[1;32m      7\u001b[0m \u001b[38;5;28;01mfrom\u001b[39;00m\u001b[38;5;250m \u001b[39m\u001b[38;5;21;01mbrainflow\u001b[39;00m\u001b[38;5;21;01m.\u001b[39;00m\u001b[38;5;21;01mboard_shim\u001b[39;00m\u001b[38;5;250m \u001b[39m\u001b[38;5;28;01mimport\u001b[39;00m BoardShim, BrainFlowInputParams\n\u001b[1;32m      8\u001b[0m \u001b[38;5;28;01mfrom\u001b[39;00m\u001b[38;5;250m \u001b[39m\u001b[38;5;21;01mbrainflow\u001b[39;00m\u001b[38;5;21;01m.\u001b[39;00m\u001b[38;5;21;01mdata_filter\u001b[39;00m\u001b[38;5;250m \u001b[39m\u001b[38;5;28;01mimport\u001b[39;00m DataFilter\n\u001b[0;32m----> 9\u001b[0m \u001b[38;5;28;01mfrom\u001b[39;00m\u001b[38;5;250m \u001b[39m\u001b[38;5;21;01mpsychopy\u001b[39;00m\u001b[38;5;250m \u001b[39m\u001b[38;5;28;01mimport\u001b[39;00m visual, core, event\n",
      "\u001b[0;31mModuleNotFoundError\u001b[0m: No module named 'psychopy'"
     ]
    }
   ],
   "source": [
    "# Install necessary packages (Uncomment the lines below if you need to install them)\n",
    "# !pip install numpy matplotlib scipy mne brainflow psychopy\n",
    "\n",
    "import numpy as np\n",
    "import matplotlib.pyplot as plt\n",
    "import mne\n",
    "from brainflow.board_shim import BoardShim, BrainFlowInputParams\n",
    "from brainflow.data_filter import DataFilter\n",
    "from psychopy import visual, core, event"
   ]
  },
  {
   "cell_type": "code",
   "execution_count": null,
   "metadata": {},
   "outputs": [],
   "source": [
    "# Initialize BrainFlow connection\n",
    "def initialize_brainflow_board(board_id=0):\n",
    "    \"\"\"Initializes BrainFlow connection.\"\"\"\n",
    "    params = BrainFlowInputParams()\n",
    "    board = BoardShim(board_id, params)\n",
    "    board.prepare_session()\n",
    "    board.start_stream()\n",
    "    return board"
   ]
  },
  {
   "cell_type": "code",
   "execution_count": null,
   "metadata": {},
   "outputs": [],
   "source": [
    "# Collect EEG data\n",
    "def collect_eeg_data(board, duration=300, sample_rate=250):\n",
    "    \"\"\"Records EEG data for a given duration.\"\"\"\n",
    "    core.wait(duration)  # Simulate experiment duration\n",
    "    data = board.get_board_data()\n",
    "    board.stop_stream()\n",
    "    board.release_session()\n",
    "    return data"
   ]
  },
  {
   "cell_type": "code",
   "execution_count": null,
   "metadata": {},
   "outputs": [],
   "source": [
    "# Save EEG data\n",
    "def save_eeg_data(data, filename=\"eeg_data.npy\"):\n",
    "    \"\"\"Saves EEG data to a .npy file.\"\"\"\n",
    "    np.save(filename, data)"
   ]
  }
 ],
 "metadata": {
  "kernelspec": {
   "display_name": "COGS189",
   "language": "python",
   "name": "python3"
  },
  "language_info": {
   "codemirror_mode": {
    "name": "ipython",
    "version": 3
   },
   "file_extension": ".py",
   "mimetype": "text/x-python",
   "name": "python",
   "nbconvert_exporter": "python",
   "pygments_lexer": "ipython3",
   "version": "3.9.6"
  }
 },
 "nbformat": 4,
 "nbformat_minor": 2
}
