{
 "cells": [
  {
   "cell_type": "markdown",
   "metadata": {},
   "source": [
    "# COGS 189 Group 12 \n",
    "*\"Investigating the Impact of Short-Form Video Content on Cognitive Focus Using EEG\"*\n"
   ]
  },
  {
   "cell_type": "code",
   "execution_count": 4,
   "metadata": {},
   "outputs": [],
   "source": [
    "# Install necessary packages (Uncomment the lines below if you need to install them in your env)\n",
    "# !pip install numpy matplotlib scipy mne brainflow scikit-learn\n",
    "\n",
    "import numpy as np\n",
    "import matplotlib.pyplot as plt\n",
    "import scipy.signal as signal\n",
    "import mne\n",
    "from brainflow.board_shim import BoardShim, BrainFlowInputParams\n",
    "from brainflow.data_filter import DataFilter, FilterTypes\n",
    "from sklearn.decomposition import PCA\n",
    "from sklearn.preprocessing import StandardScaler\n"
   ]
  },
  {
   "cell_type": "markdown",
   "metadata": {},
   "source": [
    "## Load EEG Data"
   ]
  },
  {
   "cell_type": "code",
   "execution_count": 5,
   "metadata": {},
   "outputs": [],
   "source": [
    "def load_eeg_data(filepath):\n",
    "    \"\"\"Loads EEG data from a .npy or .edf file\"\"\"\n",
    "    if filepath.endswith('.npy'):\n",
    "        data = np.load(filepath)\n",
    "    elif filepath.endswith('.edf'):\n",
    "        raw = mne.io.read_raw_edf(filepath, preload=True)\n",
    "        data = raw.get_data()\n",
    "    else:\n",
    "        raise ValueError(\"Unsupported file format. Use .npy or .edf\")\n",
    "    return data"
   ]
  },
  {
   "cell_type": "markdown",
   "metadata": {},
   "source": [
    "## Plot Visualization"
   ]
  },
  {
   "cell_type": "code",
   "execution_count": 6,
   "metadata": {},
   "outputs": [],
   "source": [
    "def plot_eeg_data(data, channel=0, sample_rate=250, duration=5):\n",
    "    \"\"\"Plots EEG data for a single channel\"\"\"\n",
    "    time = np.arange(0, duration, 1/sample_rate)\n",
    "    plt.figure(figsize=(12, 4))\n",
    "    plt.plot(time[:len(data[channel, :sample_rate*duration])], data[channel, :sample_rate*duration])\n",
    "    plt.xlabel(\"Time (s)\")\n",
    "    plt.ylabel(\"EEG Signal (uV)\")\n",
    "    plt.title(f\"EEG Data - Channel {channel}\")\n",
    "    plt.show()"
   ]
  },
  {
   "cell_type": "markdown",
   "metadata": {},
   "source": [
    "## Bandpass Filter"
   ]
  },
  {
   "cell_type": "code",
   "execution_count": 7,
   "metadata": {},
   "outputs": [],
   "source": [
    "def bandpass_filter(data, lowcut=1.0, highcut=50.0, sample_rate=250, order=4):\n",
    "    \"\"\"Applies a bandpass filter to EEG data\"\"\"\n",
    "    nyquist = 0.5 * sample_rate\n",
    "    low = lowcut / nyquist\n",
    "    high = highcut / nyquist\n",
    "    b, a = signal.butter(order, [low, high], btype='band')\n",
    "    return signal.filtfilt(b, a, data, axis=1)\n"
   ]
  },
  {
   "cell_type": "markdown",
   "metadata": {},
   "source": [
    "## Feature Extraction"
   ]
  },
  {
   "cell_type": "code",
   "execution_count": 8,
   "metadata": {},
   "outputs": [],
   "source": [
    "def compute_psd(data, sample_rate=250):\n",
    "    \"\"\"Computes the Power Spectral Density (PSD) of EEG data\"\"\"\n",
    "    freqs, psd = signal.welch(data, sample_rate, nperseg=sample_rate*2)\n",
    "    return freqs, psd"
   ]
  },
  {
   "cell_type": "markdown",
   "metadata": {},
   "source": [
    "## Prepare Machine Learning Preprocessing\n",
    "### Prepares EEG data for ML by standardizing and applying PCA"
   ]
  },
  {
   "cell_type": "code",
   "execution_count": 9,
   "metadata": {},
   "outputs": [],
   "source": [
    "def prepare_ml_data(data):\n",
    "    \"\"\"Prepares EEG data for ML by standardizing and applying PCA\"\"\"\n",
    "    scaler = StandardScaler()\n",
    "    data_scaled = scaler.fit_transform(data.T).T  # Normalize channels\n",
    "    pca = PCA(n_components=5)  # Reduce dimensionality\n",
    "    data_pca = pca.fit_transform(data_scaled.T)\n",
    "    return data_pca"
   ]
  },
  {
   "cell_type": "markdown",
   "metadata": {},
   "source": [
    "# Experimental Design: Cognitive Focus and Short-Form Video Impact\n",
    "### The data collection phases: Control Recording -> Break -> Attention Test -> Doom Scroll -> Attention Task"
   ]
  },
  {
   "cell_type": "markdown",
   "metadata": {},
   "source": [
    "Example usage\n",
    "events\n",
    "- \"Control Recording\": (0, 60), \n",
    "- \"Break\": (60, 120), \n",
    "- \"Attention Test\": (120, 180), \n",
    "- \"Doom Scroll\": (180, 240), \n",
    "- \"Attention Task\": (240, 300)}\n",
    "    \n",
    "eeg_data = load_eeg_data(filepath) \n",
    "\n",
    "\n",
    "segmented_data = segment_experiment_data(eeg_data, events)"
   ]
  },
  {
   "cell_type": "markdown",
   "metadata": {},
   "source": []
  }
 ],
 "metadata": {
  "kernelspec": {
   "display_name": "COGS189",
   "language": "python",
   "name": "python3"
  },
  "language_info": {
   "codemirror_mode": {
    "name": "ipython",
    "version": 3
   },
   "file_extension": ".py",
   "mimetype": "text/x-python",
   "name": "python",
   "nbconvert_exporter": "python",
   "pygments_lexer": "ipython3",
   "version": "3.9.6"
  }
 },
 "nbformat": 4,
 "nbformat_minor": 2
}
